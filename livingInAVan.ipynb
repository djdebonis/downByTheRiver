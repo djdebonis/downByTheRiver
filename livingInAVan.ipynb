{
 "cells": [
  {
   "cell_type": "code",
   "execution_count": 1,
   "metadata": {},
   "outputs": [],
   "source": [
    "import nltk\n",
    "import re\n",
    "import pandas as pd\n",
    "import numpy as np\n",
    "import matplotlib.pyplot as plt\n",
    "import math"
   ]
  },
  {
   "cell_type": "code",
   "execution_count": 2,
   "metadata": {},
   "outputs": [],
   "source": [
    "from nltk.tokenize import sent_tokenize, word_tokenize, regexp_tokenize\n",
    "from nltk.corpus import stopwords\n",
    "from collections import Counter\n",
    "from spellchecker import SpellChecker"
   ]
  },
  {
   "cell_type": "code",
   "execution_count": 3,
   "metadata": {},
   "outputs": [],
   "source": [
    "def openAndRead(infilePathAndName):\n",
    "    \"\"\"\n",
    "    opens a file and returns a long long long string\n",
    "    \n",
    "    :infilePathAndName: string of the path/path/txtFileName.txt from the current directory\n",
    "    \n",
    "    :returns\n",
    "    \n",
    "    \n",
    "    \"\"\"\n",
    "    with open(infilePathAndName, 'r') as file:\n",
    "        string = file.read()\n",
    "        \n",
    "    return string"
   ]
  },
  {
   "cell_type": "code",
   "execution_count": 4,
   "metadata": {},
   "outputs": [],
   "source": [
    "def fixDashes(string):\n",
    "    \"\"\"\n",
    "    Replaces the dumb & incorrect way I used to write em dashes (followed by a space) and replaces it with the 'correct' way.\n",
    "    \"\"\"\n",
    "    \n",
    "    newString = string.replace('-- ', '--')\n",
    "    \n",
    "    return newString"
   ]
  },
  {
   "cell_type": "code",
   "execution_count": 5,
   "metadata": {},
   "outputs": [],
   "source": [
    "def fixDashesTwo(string):\n",
    "    \"\"\"\n",
    "    Replaces the dumb & incorrect way I used to write em dashes (followed by a space) and replaces it with the 'correct' way.\n",
    "    \"\"\"\n",
    "    \n",
    "    newString = string.replace('—', '')\n",
    "    \n",
    "    return newString"
   ]
  },
  {
   "cell_type": "code",
   "execution_count": 6,
   "metadata": {},
   "outputs": [],
   "source": [
    "def cleanAndPreprocessData(lsOfTokens):\n",
    "    lsOfTokensLow = [token.lower() for token in lsOfTokens]\n",
    "    lsOfTokensNoStops = [token for token in lsOfTokensLow if token not in stopwords.words('english')]\n",
    "    return(lsOfTokensNoStops)"
   ]
  },
  {
   "cell_type": "code",
   "execution_count": null,
   "metadata": {},
   "outputs": [],
   "source": []
  }
 ],
 "metadata": {
  "kernelspec": {
   "display_name": "Python 3",
   "language": "python",
   "name": "python3"
  },
  "language_info": {
   "codemirror_mode": {
    "name": "ipython",
    "version": 3
   },
   "file_extension": ".py",
   "mimetype": "text/x-python",
   "name": "python",
   "nbconvert_exporter": "python",
   "pygments_lexer": "ipython3",
   "version": "3.7.3"
  }
 },
 "nbformat": 4,
 "nbformat_minor": 4
}
