{
 "cells": [
  {
   "cell_type": "code",
   "execution_count": 1,
   "metadata": {},
   "outputs": [],
   "source": [
    "import nltk\n",
    "import re\n",
    "import pandas as pd\n",
    "import numpy as np\n",
    "import matplotlib.pyplot as plt\n",
    "import math"
   ]
  },
  {
   "cell_type": "code",
   "execution_count": 2,
   "metadata": {},
   "outputs": [],
   "source": [
    "from nltk.tokenize import sent_tokenize, word_tokenize, regexp_tokenize\n",
    "from nltk.corpus import stopwords\n",
    "from collections import Counter\n",
    "from spellchecker import SpellChecker"
   ]
  },
  {
   "cell_type": "code",
   "execution_count": 3,
   "metadata": {},
   "outputs": [],
   "source": [
    "def openAndRead(infilePathAndName):\n",
    "    \"\"\"\n",
    "    opens a file and returns a long long long string\n",
    "    \n",
    "    :infilePathAndName: string of the path/path/txtFileName.txt from the current directory\n",
    "    \n",
    "    :returns\n",
    "    \n",
    "    \n",
    "    \"\"\"\n",
    "    with open(infilePathAndName, 'r') as file:\n",
    "        string = file.read()\n",
    "        \n",
    "    return(string)"
   ]
  },
  {
   "cell_type": "code",
   "execution_count": 4,
   "metadata": {},
   "outputs": [],
   "source": [
    "def fixDashes(string):\n",
    "    \"\"\"\n",
    "    Replaces the dumb & incorrect way I used to write em dashes (followed by a space) and replaces it with the 'correct' way.\n",
    "    \n",
    "    \"\"\"\n",
    "    \n",
    "    newString = string.replace('-- ', '--')\n",
    "    \n",
    "    return(newString)"
   ]
  },
  {
   "cell_type": "code",
   "execution_count": 5,
   "metadata": {},
   "outputs": [],
   "source": [
    "def fixDashesTwo(string):\n",
    "    \"\"\"\n",
    "    Replaces the dumb & incorrect way I used to write em dashes (followed by a space) and replaces it with the 'correct' way.\n",
    "    \n",
    "    \"\"\"\n",
    "    \n",
    "    newString = string.replace('—', '')\n",
    "    \n",
    "    return(newString)"
   ]
  },
  {
   "cell_type": "code",
   "execution_count": 35,
   "metadata": {},
   "outputs": [],
   "source": [
    "def tokenizeToSent(newString):\n",
    "    \"\"\"\n",
    "    Uses nltk sent_tokenize to break up the string into a list of strings, one sentence per string.\n",
    "    \n",
    "    \"\"\"\n",
    "    lsOfSent = sent_tokenize(newString)\n",
    "    \n",
    "    return(lsOfSent)"
   ]
  },
  {
   "cell_type": "code",
   "execution_count": null,
   "metadata": {},
   "outputs": [],
   "source": [
    "def tokenizeToWord(lsOfSent):\n",
    "    \"\"\"\n",
    "    Uses re and nltk to tokenize each string (sentence) in a list into a list of tokens (words).\n",
    "    \n",
    "    \"\"\"\n",
    "    \n",
    "    pattern = r\"\\w+|\\d+\" # grabs words and numbers; removes punctuation\n",
    "    lsOfLsOfToken = [regexp_tokenize(token, pattern) for token in lsOfSent]\n",
    "    \n",
    "    return(lsOfLsOfToken)"
   ]
  },
  {
   "cell_type": "code",
   "execution_count": 6,
   "metadata": {},
   "outputs": [],
   "source": [
    "def cleanAndPreProcessWord(lsOfToken):\n",
    "    \"\"\"\n",
    "    (1) turns all of the tokens in a ls lowercase\n",
    "    (2) removes all 'stopwords' in a ls leaving the more semantically valuble words\n",
    "    \n",
    "    \"\"\"\n",
    "    lsOfTokensLow = [token.lower() for token in lsOfLsOfToken]\n",
    "    lsOfTokensNoStops = [token for token in lsOfTokensLow if token not in stopwords.words('english')]\n",
    "    \n",
    "    return(lsOfTokensNoStops)"
   ]
  },
  {
   "cell_type": "code",
   "execution_count": 36,
   "metadata": {},
   "outputs": [],
   "source": [
    "def cleanAndPreProcessSent(lsOfLsOfToken):\n",
    "    \n",
    "    newLsofLs = [cleanAndPreprocessWord(token) for token in lsOfLsOfToken]\n",
    "    return(newLsofLs)"
   ]
  },
  {
   "cell_type": "code",
   "execution_count": 34,
   "metadata": {},
   "outputs": [],
   "source": [
    "def removeEmptyData(lsOfTokensNoStops):\n",
    "    \"\"\"\n",
    "    Removes empty lists from a set of lists and returns the new, cleaned out list.\n",
    "    \n",
    "    \"\"\"\n",
    "    newLs = [x for x in lsOfLs if x != []]\n",
    "    \n",
    "    return(newLs)"
   ]
  },
  {
   "cell_type": "code",
   "execution_count": 15,
   "metadata": {},
   "outputs": [],
   "source": [
    "def readData(infilePathAndName):\n",
    "    \"\"\"\n",
    "    Takes in the preprocessed/precleaned wordset that I wrote and returns a list of lists\n",
    "    containing the words tokenized into sentences (lists) and words (elements of lists)\n",
    "    \n",
    "    \n",
    "    \"\"\"\n",
    "    \n",
    "    with open(infilePathAndName, \"r\") as f:\n",
    "        string = f.read()\n",
    "        ls1 = string.split(\"\\n\")\n",
    "        finalLs = []\n",
    "        for index, string in enumerate(ls1):\n",
    "            subLs = string.split(\" \")\n",
    "            finalLs.append(subLs)\n",
    "            \n",
    "    return(finalLs)\n",
    "    "
   ]
  },
  {
   "cell_type": "code",
   "execution_count": 28,
   "metadata": {},
   "outputs": [
    {
     "data": {
      "text/plain": [
       "3102"
      ]
     },
     "execution_count": 28,
     "metadata": {},
     "output_type": "execute_result"
    }
   ],
   "source": [
    "salientWords = readData(\"salientWords.txt\")\n",
    "\n",
    "# check to see if doc is same after reading in data\n",
    "len(salientWords)"
   ]
  },
  {
   "cell_type": "code",
   "execution_count": 29,
   "metadata": {},
   "outputs": [
    {
     "data": {
      "text/plain": [
       "['']"
      ]
     },
     "execution_count": 29,
     "metadata": {},
     "output_type": "execute_result"
    }
   ],
   "source": [
    "# document is not same length. extra item was thrown in. pop this item to remove it from list\n",
    "salientWords.pop(3101)"
   ]
  },
  {
   "cell_type": "code",
   "execution_count": 33,
   "metadata": {},
   "outputs": [
    {
     "data": {
      "text/plain": [
       "3101"
      ]
     },
     "execution_count": 33,
     "metadata": {},
     "output_type": "execute_result"
    }
   ],
   "source": [
    "# check len again\n",
    "len(salientWords)"
   ]
  },
  {
   "cell_type": "code",
   "execution_count": null,
   "metadata": {},
   "outputs": [],
   "source": []
  },
  {
   "cell_type": "code",
   "execution_count": null,
   "metadata": {},
   "outputs": [],
   "source": []
  }
 ],
 "metadata": {
  "kernelspec": {
   "display_name": "Python 3",
   "language": "python",
   "name": "python3"
  },
  "language_info": {
   "codemirror_mode": {
    "name": "ipython",
    "version": 3
   },
   "file_extension": ".py",
   "mimetype": "text/x-python",
   "name": "python",
   "nbconvert_exporter": "python",
   "pygments_lexer": "ipython3",
   "version": "3.7.3"
  }
 },
 "nbformat": 4,
 "nbformat_minor": 4
}
